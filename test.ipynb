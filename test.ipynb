{
 "cells": [
  {
   "cell_type": "code",
   "execution_count": 75,
   "metadata": {},
   "outputs": [],
   "source": [
    "import numpy as np\n",
    "import cv2\n",
    "import mediapipe as mp\n",
    "from mediapipe.tasks import python\n",
    "from mediapipe.tasks.python import vision\n"
   ]
  },
  {
   "cell_type": "code",
   "execution_count": 76,
   "id": "ea510cdd",
   "metadata": {},
   "outputs": [],
   "source": [
    "MARGIN = 10  # pixels\n",
    "ROW_SIZE = 10  # pixels\n",
    "FONT_SIZE = 1\n",
    "FONT_THICKNESS = 1\n",
    "TEXT_COLOR = (255, 0, 0)  # red\n",
    "\n",
    "def visualize(\n",
    "    image,\n",
    "    detection_result\n",
    ") -> np.ndarray:\n",
    "  \"\"\"Draws bounding boxes on the input image and return it.\n",
    "  Args:\n",
    "    image: The input RGB image.\n",
    "    detection_result: The list of all \"Detection\" entities to be visualize.\n",
    "  Returns:\n",
    "    Image with bounding boxes.\n",
    "  \"\"\"\n",
    "  for detection in detection_result.detections:\n",
    "    # Draw bounding_box\n",
    "    bbox = detection.bounding_box\n",
    "    start_point = bbox.origin_x, bbox.origin_y\n",
    "    end_point = bbox.origin_x + bbox.width, bbox.origin_y + bbox.height\n",
    "    cv2.rectangle(image, start_point, end_point, TEXT_COLOR, 3)\n",
    "\n",
    "    # Draw label and score\n",
    "    category = detection.categories[0]\n",
    "    category_name = category.category_name\n",
    "    probability = round(category.score, 2)\n",
    "    result_text = category_name + ' (' + str(probability) + ')'\n",
    "    text_location = (MARGIN + bbox.origin_x,\n",
    "                     MARGIN + ROW_SIZE + bbox.origin_y)\n",
    "    cv2.putText(image, result_text, text_location, cv2.FONT_HERSHEY_PLAIN,\n",
    "                FONT_SIZE, TEXT_COLOR, FONT_THICKNESS)\n",
    "\n",
    "  return image"
   ]
  },
  {
   "cell_type": "code",
   "execution_count": 77,
   "id": "0e785d3c",
   "metadata": {},
   "outputs": [],
   "source": [
    "model_path = './models/efficientdet_lite0_float16.tflite'\n",
    "\n",
    "# Load the input image from an image file.\n",
    "image_file = './dog_and_cat.png'\n",
    "mp_image = mp.Image.create_from_file(image_file)\n"
   ]
  },
  {
   "cell_type": "code",
   "execution_count": 78,
   "id": "d6a49e97",
   "metadata": {},
   "outputs": [],
   "source": [
    "BaseOptions = mp.tasks.BaseOptions\n",
    "ObjectDetector = mp.tasks.vision.ObjectDetector\n",
    "ObjectDetectorOptions = mp.tasks.vision.ObjectDetectorOptions\n",
    "VisionRunningMode = mp.tasks.vision.RunningMode\n",
    "\n",
    "options = ObjectDetectorOptions(\n",
    "    base_options=BaseOptions(model_asset_path=model_path),\n",
    "    max_results=5,\n",
    "    running_mode=VisionRunningMode.IMAGE)\n",
    "\n",
    "with ObjectDetector.create_from_options(options) as detector:\n",
    "    # The detector is initialized. Use it here.\n",
    "\n",
    "    # Perform object detection on the provided single image.\n",
    "    detection_result = detector.detect(mp_image)\n",
    "    # 이미지를 np array로 변환\n",
    "    image_copy = np.copy(mp_image.numpy_view())\n",
    "    # 이미지에 detection 정보를 그린다.\n",
    "    annotated_image = visualize(image_copy, detection_result)\n",
    "    # Open CV의 BGR에서 RGB로 이미지를 변환한다.\n",
    "    rgb_annotated_image = cv2.cvtColor(annotated_image, cv2.COLOR_BGR2RGB)"
   ]
  },
  {
   "cell_type": "code",
   "execution_count": 81,
   "id": "a1bfe5d5",
   "metadata": {},
   "outputs": [
    {
     "name": "stdout",
     "output_type": "stream",
     "text": [
      "DetectionResult(detections=[Detection(bounding_box=BoundingBox(origin_x=72, origin_y=162, width=252, height=191), categories=[Category(index=None, score=0.7798683643341064, display_name=None, category_name='cat')], keypoints=[]), Detection(bounding_box=BoundingBox(origin_x=303, origin_y=27, width=248, height=344), categories=[Category(index=None, score=0.7624295949935913, display_name=None, category_name='dog')], keypoints=[]), Detection(bounding_box=BoundingBox(origin_x=44, origin_y=277, width=553, height=116), categories=[Category(index=None, score=0.02440771646797657, display_name=None, category_name='dining table')], keypoints=[]), Detection(bounding_box=BoundingBox(origin_x=106, origin_y=0, width=70, height=8), categories=[Category(index=None, score=0.023307783529162407, display_name=None, category_name='person')], keypoints=[]), Detection(bounding_box=BoundingBox(origin_x=368, origin_y=9, width=18, height=8), categories=[Category(index=None, score=0.02099349908530712, display_name=None, category_name='bird')], keypoints=[])])\n"
     ]
    }
   ],
   "source": [
    "print(detection_result)"
   ]
  },
  {
   "cell_type": "code",
   "execution_count": 80,
   "id": "fc01006a",
   "metadata": {},
   "outputs": [],
   "source": [
    "# cv 이미지 출력 테스트\n",
    "# cv_image = cv2.imread(image_file, cv2.IMREAD_COLOR)\n",
    "\n",
    "cv2.imshow('test img', rgb_annotated_image)\n",
    "\n",
    "cv2.waitKey(0)\n",
    "cv2.destroyAllWindows()"
   ]
  }
 ],
 "metadata": {
  "kernelspec": {
   "display_name": "Python 3",
   "language": "python",
   "name": "python3"
  },
  "language_info": {
   "codemirror_mode": {
    "name": "ipython",
    "version": 3
   },
   "file_extension": ".py",
   "mimetype": "text/x-python",
   "name": "python",
   "nbconvert_exporter": "python",
   "pygments_lexer": "ipython3",
   "version": "3.8.18"
  }
 },
 "nbformat": 4,
 "nbformat_minor": 5
}
